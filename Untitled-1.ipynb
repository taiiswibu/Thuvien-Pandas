{
 "cells": [
  {
   "cell_type": "code",
   "execution_count": 2,
   "metadata": {},
   "outputs": [
    {
     "name": "stdout",
     "output_type": "stream",
     "text": [
      "   STT       Họ Tên   Toán  Lý  Hóa  Văn  Sử  Địa       DTB\n",
      "0    1  nguyễn văn a     6   7    8    9   6    7  7.166667\n",
      "1    2  nguyễn văn B     6   7    4    3   5    9  5.666667\n",
      "2    3  nguyễn văn C     8   5    8    5   4    5  5.833333\n",
      "3    4  nguyễn văn D     9   5    8    4   5    5  6.000000\n",
      "4    5  nguyễn văn E     7   5    6    8   9    8  7.166667\n"
     ]
    }
   ],
   "source": [
    "import pandas as pd\n",
    "f1 = pd.read_excel(r'C:\\codebaitappython\\python-pandas\\testpandas.xlsx')\n",
    "f1['DTB']=(f1['Toán']+f1['Lý']+f1['Hóa']+f1['Văn']+f1['Sử']+f1['Địa'])/6 \n",
    "f1.to_excel(r'C:\\codebaitappython\\python-pandas\\testpandas_edit.xlsx')\n",
    "print(f1)"
   ]
  }
 ],
 "metadata": {
  "kernelspec": {
   "display_name": "Python 3",
   "language": "python",
   "name": "python3"
  },
  "language_info": {
   "codemirror_mode": {
    "name": "ipython",
    "version": 3
   },
   "file_extension": ".py",
   "mimetype": "text/x-python",
   "name": "python",
   "nbconvert_exporter": "python",
   "pygments_lexer": "ipython3",
   "version": "3.10.11"
  },
  "orig_nbformat": 4
 },
 "nbformat": 4,
 "nbformat_minor": 2
}
